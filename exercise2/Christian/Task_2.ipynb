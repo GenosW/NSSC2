{
 "cells": [
  {
   "cell_type": "code",
   "execution_count": 1,
   "metadata": {},
   "outputs": [
    {
     "ename": "ModuleNotFoundError",
     "evalue": "No module named 'jax'",
     "output_type": "error",
     "traceback": [
      "\u001b[0;31m---------------------------------------------------------------------------\u001b[0m",
      "\u001b[0;31mModuleNotFoundError\u001b[0m                       Traceback (most recent call last)",
      "\u001b[0;32m<ipython-input-1-8015284f7f16>\u001b[0m in \u001b[0;36m<module>\u001b[0;34m\u001b[0m\n\u001b[0;32m----> 1\u001b[0;31m \u001b[0;32mimport\u001b[0m \u001b[0mjax\u001b[0m\u001b[0;34m.\u001b[0m\u001b[0mnumpy\u001b[0m \u001b[0;32mas\u001b[0m \u001b[0mnp\u001b[0m\u001b[0;34m\u001b[0m\u001b[0;34m\u001b[0m\u001b[0m\n\u001b[0m\u001b[1;32m      2\u001b[0m \u001b[0;32mfrom\u001b[0m \u001b[0mjax\u001b[0m \u001b[0;32mimport\u001b[0m \u001b[0mgrad\u001b[0m\u001b[0;34m\u001b[0m\u001b[0;34m\u001b[0m\u001b[0m\n\u001b[1;32m      3\u001b[0m \u001b[0;32mimport\u001b[0m \u001b[0mrandom\u001b[0m\u001b[0;34m\u001b[0m\u001b[0;34m\u001b[0m\u001b[0m\n\u001b[1;32m      4\u001b[0m \u001b[0;32mfrom\u001b[0m \u001b[0mscipy\u001b[0m\u001b[0;34m.\u001b[0m\u001b[0moptimize\u001b[0m \u001b[0;32mimport\u001b[0m \u001b[0mminimize\u001b[0m\u001b[0;34m\u001b[0m\u001b[0;34m\u001b[0m\u001b[0m\n\u001b[1;32m      5\u001b[0m \u001b[0;32mfrom\u001b[0m \u001b[0mmpl_toolkits\u001b[0m\u001b[0;34m.\u001b[0m\u001b[0mmplot3d\u001b[0m \u001b[0;32mimport\u001b[0m \u001b[0mAxes3D\u001b[0m\u001b[0;34m\u001b[0m\u001b[0;34m\u001b[0m\u001b[0m\n",
      "\u001b[0;31mModuleNotFoundError\u001b[0m: No module named 'jax'"
     ]
    }
   ],
   "source": [
    "import jax.numpy as np\n",
    "from jax import grad\n",
    "import random\n",
    "from scipy.optimize import minimize\n",
    "from mpl_toolkits.mplot3d import Axes3D\n",
    "import matplotlib.pyplot as plt\n",
    "import cv2\n",
    "import glob"
   ]
  },
  {
   "cell_type": "code",
   "execution_count": null,
   "metadata": {},
   "outputs": [],
   "source": [
    "M = 5\n",
    "L = 1\n",
    "S = 1\n",
    "dt = 1*1e-4\n",
    "N = 100"
   ]
  },
  {
   "cell_type": "code",
   "execution_count": 2,
   "metadata": {},
   "outputs": [
    {
     "data": {
      "text/plain": [
       "'/usr/local/opt/python/bin/python3.7'"
      ]
     },
     "execution_count": 2,
     "metadata": {},
     "output_type": "execute_result"
    }
   ],
   "source": [
    "import sys\n",
    "sys.executable"
   ]
  },
  {
   "cell_type": "code",
   "execution_count": null,
   "metadata": {},
   "outputs": [],
   "source": [
    "def generateRandomCoordinates(pos, L):\n",
    "    m, n = pos.shape\n",
    "    for i in range(m):\n",
    "        for j in range(n):\n",
    "            pos[i,j] = random.random()*L\n",
    "            \n",
    "    return pos\n",
    "\n",
    "\n",
    "def generateRandomVelocities(vel):\n",
    "    m, n = vel.shape\n",
    "    for i in range(m):\n",
    "        for j in range(n):\n",
    "            vel[i,j] = np.random.normal(0,S)    # falsche Verteilung\n",
    "            \n",
    "    return vel"
   ]
  },
  {
   "cell_type": "code",
   "execution_count": null,
   "metadata": {},
   "outputs": [],
   "source": [
    "def VLJ(r):\n",
    "    sigma = 0.89#np.power(2,-1/6)\n",
    "    epsilon = 1\n",
    "    return 4*epsilon*(np.power(sigma/r,12)-np.power(sigma/r,6))\n",
    "\n",
    "\n",
    "def Epot(pos):\n",
    "    pos = pos.reshape((3,M))\n",
    "    energy = 0\n",
    "    for i in range(M-1):\n",
    "        for j in list(range(i+1,M)):\n",
    "            energy += VLJ(np.linalg.norm(pos[:,i]-pos[:,j]))\n",
    "            \n",
    "    return energy\n",
    "\n",
    "\n",
    "def Ekin(vel):\n",
    "    energy = 0\n",
    "    for i in range(M):\n",
    "        energy += np.linalg.norm(vel[:,i])*np.linalg.norm(vel[:,i])\n",
    "    energy += 0.5\n",
    "    \n",
    "    return energy\n"
   ]
  },
  {
   "cell_type": "code",
   "execution_count": null,
   "metadata": {},
   "outputs": [],
   "source": [
    "def objective(x):\n",
    "    return Epot(x)"
   ]
  },
  {
   "cell_type": "code",
   "execution_count": null,
   "metadata": {},
   "outputs": [],
   "source": [
    "pos = np.zeros((3,M))\n",
    "pos = generateRandomCoordinates(pos, L)\n",
    "vel = np.zeros((3,M))\n",
    "vel = generateRandomVelocities(vel)\n",
    "f = np.zeros((3,M))\n",
    "print('Epot start: ',Epot(pos.reshape(3*M)))\n",
    "\n",
    "# plot initial configuration\n",
    "fig = plt.figure()\n",
    "ax = fig.add_subplot(111, projection='3d')\n",
    "ax.set_xlim(0,L)\n",
    "ax.set_ylim(0,L)\n",
    "ax.set_zlim(0,L)\n",
    "for i in range(M):\n",
    "    ax.scatter(pos[0,i],pos[1,i],pos[2,i])\n",
    "plt.show\n",
    "\n",
    "# setup minimization\n",
    "b = (0.05,L-0.05)\n",
    "bnds = list(b for i in range(3*M))\n",
    "sol = minimize(objective,pos,method='TNC',bounds=bnds)     # not CG method\n",
    "pos = sol.x.reshape((3,M))\n",
    "print('Epot new: ', Epot(pos.reshape(3*M)))\n",
    "\n",
    "# plot new configuration\n",
    "fig = plt.figure()\n",
    "ax = fig.add_subplot(111, projection='3d')\n",
    "ax.set_xlim(0,L)\n",
    "ax.set_ylim(0,L)\n",
    "ax.set_zlim(0,L)\n",
    "for i in range(M):\n",
    "    ax.scatter(pos[0,i],pos[1,i],pos[2,i])\n",
    "plt.show\n",
    "\n",
    "# velocity calculations\n",
    "v_average = 0\n",
    "for i in range(M):\n",
    "    v_average += vel[:,i]\n",
    "v_average /= M\n",
    "for k in range(M):\n",
    "    vel[:,i] = vel[:,i] - v_average\n",
    "    \n",
    "# calculate forces\n",
    "gradient = grad(Epot)                                # nicht JAX\n",
    "f = gradient(pos.reshape(3*M)).reshape((3,M))\n",
    "f"
   ]
  },
  {
   "cell_type": "code",
   "execution_count": null,
   "metadata": {},
   "outputs": [],
   "source": [
    "def calculateNewPosition(pos,vel,f):\n",
    "    pos_new = np.zeros((3,M))\n",
    "    for i in range(M):\n",
    "        pos_new[:,i] = pos[:,i] + vel[:,i]*dt + 0.5*dt*dt*f[:,i]\n",
    "        if(pos_new[0,i] < 0):\n",
    "            a = np.ceil(abs(pos_new[0,i])/L)\n",
    "            pos_new[0,i] += L*a\n",
    "        if(pos_new[0,i] > L):\n",
    "            a = np.ceil((pos_new[0,i]-L)/L)\n",
    "            pos_new[0,i] -= L*a\n",
    "        if(pos_new[1,i] < 0):\n",
    "            a = np.ceil(abs(pos_new[1,i])/L)\n",
    "            pos_new[1,i] += L*a\n",
    "        if(pos_new[1,i] > L):\n",
    "            a = np.ceil((pos_new[1,i]-L)/L)\n",
    "            pos_new[1,i] -= L*a\n",
    "        if(pos_new[2,i] < 0):\n",
    "            a = np.ceil(abs(pos_new[2,i])/L)\n",
    "            pos_new[2,i] += L*a\n",
    "        if(pos_new[2,i] > L):\n",
    "            a = np.ceil((pos_new[2,i]-L)/L)\n",
    "            pos_new[2,i] -= L*a\n",
    "    return pos_new\n",
    "\n",
    "\n",
    "def calculateNewVelocity(vel,f,fnew):\n",
    "    vel_new = np.zeros((3,M))\n",
    "    for i in range(M):\n",
    "        vel_new[:,i] = vel[:,i] + 0.5*dt*f[:,i] + 0.5*dt*fnew[:,i]\n",
    "    return vel_new\n",
    "\n",
    "\n",
    "\n",
    "def drawSystem(trajectory, name):\n",
    "    fig = plt.figure()\n",
    "    ax = fig.add_subplot(111, projection='3d')\n",
    "        \n",
    "    colors = ('blue','red','orange','green','black')\n",
    "    for n in range(N):\n",
    "        ax.set_xlim(0,L)\n",
    "        ax.set_ylim(0,L)\n",
    "        ax.set_zlim(0,L)\n",
    "        for i in range(M):\n",
    "            ax.scatter(trajectory[n][0,i],trajectory[n][1,i],trajectory[n][2,i],c=colors[i])\n",
    "        call = name+str(n)+'.png'\n",
    "        plt.savefig(call)\n",
    "        ax.clear()\n",
    "        \n",
    "    \n",
    "def makeVideo():\n",
    "    img_array = []\n",
    "    for filename in glob.glob('*.png'):\n",
    "        img = cv2.imread(filename)\n",
    "        height, width, layers = img.shape\n",
    "        size = (width,height)\n",
    "        img_array.append(img)\n",
    "\n",
    " \n",
    "    out = cv2.VideoWriter('project.avi',cv2.VideoWriter_fourcc(*'DIVX'), 10, size)\n",
    " \n",
    "    for i in range(len(img_array)):\n",
    "        out.write(img_array[i])\n",
    "    out.release()"
   ]
  },
  {
   "cell_type": "code",
   "execution_count": null,
   "metadata": {},
   "outputs": [],
   "source": [
    "trajectory = [1,]*N\n",
    "velocetory = [1,]*N\n",
    "trajectory[0] = pos\n",
    "velocetory[0] = vel\n",
    "f_old = gradient(pos.reshape(3*M)).reshape((3,M))\n",
    "energy = np.zeros(N)\n",
    "energy[0] = Epot(pos.reshape(3*M))+Ekin(vel)\n",
    "\n",
    "for i in range(1,N):\n",
    "    pos = calculateNewPosition(pos,vel,f_old)\n",
    "    trajectory[i] = pos\n",
    "    f_new = gradient(pos.reshape(3*M)).reshape((3,M))\n",
    "    vel = calculateNewVelocity(vel,f_old,f_new)\n",
    "    velocetory[i] = vel\n",
    "    f_old = f_new\n",
    "    energy[i] = Epot(pos.reshape(3*M))+Ekin(vel)\n",
    "    "
   ]
  },
  {
   "cell_type": "code",
   "execution_count": null,
   "metadata": {},
   "outputs": [],
   "source": [
    "drawSystem(trajectory,'try_')"
   ]
  },
  {
   "cell_type": "code",
   "execution_count": null,
   "metadata": {},
   "outputs": [],
   "source": [
    "makeVideo()"
   ]
  },
  {
   "cell_type": "code",
   "execution_count": null,
   "metadata": {},
   "outputs": [],
   "source": [
    "plt.plot(energy)"
   ]
  },
  {
   "cell_type": "code",
   "execution_count": null,
   "metadata": {},
   "outputs": [],
   "source": []
  }
 ],
 "metadata": {
  "kernelspec": {
   "display_name": "Python 3",
   "language": "python",
   "name": "python3"
  },
  "language_info": {
   "codemirror_mode": {
    "name": "ipython",
    "version": 3
   },
   "file_extension": ".py",
   "mimetype": "text/x-python",
   "name": "python",
   "nbconvert_exporter": "python",
   "pygments_lexer": "ipython3",
   "version": "3.7.6"
  }
 },
 "nbformat": 4,
 "nbformat_minor": 4
}
