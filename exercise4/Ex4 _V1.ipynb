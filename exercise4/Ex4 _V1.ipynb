{
 "cells": [
  {
   "cell_type": "code",
   "execution_count": 3,
   "metadata": {},
   "outputs": [
    {
     "ename": "TabError",
     "evalue": "inconsistent use of tabs and spaces in indentation (triangulation.py, line 11)",
     "output_type": "error",
     "traceback": [
      "Traceback \u001b[1;36m(most recent call last)\u001b[0m:\n",
      "  File \u001b[0;32m\"C:\\Users\\chris\\Anaconda3\\lib\\site-packages\\IPython\\core\\interactiveshell.py\"\u001b[0m, line \u001b[0;32m3325\u001b[0m, in \u001b[0;35mrun_code\u001b[0m\n    exec(code_obj, self.user_global_ns, self.user_ns)\n",
      "  File \u001b[0;32m\"<ipython-input-3-e6ed824b659a>\"\u001b[0m, line \u001b[0;32m4\u001b[0m, in \u001b[0;35m<module>\u001b[0m\n    from fem import Element, Mesh, print_HTP\n",
      "\u001b[1;36m  File \u001b[1;32m\"C:\\Users\\chris\\Documents\\Git_repos\\Uni\\NSSC2\\exercise4\\fem\\__init__.py\"\u001b[1;36m, line \u001b[1;32m3\u001b[1;36m, in \u001b[1;35m<module>\u001b[1;36m\u001b[0m\n\u001b[1;33m    from .triangulation import *\u001b[0m\n",
      "\u001b[1;36m  File \u001b[1;32m\"C:\\Users\\chris\\Documents\\Git_repos\\Uni\\NSSC2\\exercise4\\fem\\triangulation.py\"\u001b[1;36m, line \u001b[1;32m11\u001b[0m\n\u001b[1;33m    \"\"\"\u001b[0m\n\u001b[1;37m       ^\u001b[0m\n\u001b[1;31mTabError\u001b[0m\u001b[1;31m:\u001b[0m inconsistent use of tabs and spaces in indentation\n"
     ]
    }
   ],
   "source": [
    "import numpy as np\n",
    "import matplotlib.pyplot as plt\n",
    "\n",
    "from fem import Element, Mesh, print_HTP"
   ]
  },
  {
   "cell_type": "code",
   "execution_count": null,
   "metadata": {},
   "outputs": [],
   "source": [
    "# Setup the simulation\n",
    "\n",
    "# simulation parameters\n",
    "L = 0.01  # [m]\n",
    "hz = 0.001  # [m]\n",
    "k = 236\n",
    "n = 10  # number nodes in one direction (value can't be simply changed since the equation system is hardcoded)\n",
    "\n",
    "# BCs\n",
    "dirichletT = 293  # [K]\n",
    "q = 3000000  # [W/m^2]\n",
    "\n",
    "# Temperature vector\n",
    "T = np.ones((n*n,1))*(-1)\n",
    "for i in np.linspace(90,99,10,dtype=int):\n",
    "    T[i] = dirichletT\n",
    "\n",
    "# Load vector\n",
    "P = np.zeros((n*n,1))\n",
    "qPerArea = q*(L/(n-1)*hz)  # power one element sees\n",
    "for i in range(10):\n",
    "    P[i] = qPerArea\n",
    "P[0] = qPerArea/2\n",
    "P[9] = qPerArea/2\n",
    "\n",
    "# about the parameters for Triangulation: (L... length of domain, n-1... how many elements in x and y direction\n",
    "#                                          k... k, hz... element thickness, mode... 0=base mode / 1=trpezoidal \n",
    "#                                          2=bias / 4=different k, how much upper edge gets distorted in trapezoidal\n",
    "#                                          can also be used for other modes, c... scale factor for k in mode 4)\n",
    "Tri = Triangulation(L,n-1,n-1,k,hz,mode=4,factorV1=1,c=10)\n",
    "mesh = Tri.createTriangulation()\n",
    "H = mesh.assembleH()\n",
    "\n",
    "# System of equations\n",
    "T[0:90] = np.linalg.solve(H[0:90,0:90], P[0:90]-H[0:90,90:100].dot(T[90:100]))\n",
    "P[90:100] = H[90:100,0:90].dot(T[0:90]) + H[90:100,90:100].dot(T[90:100])\n",
    "mesh.storeT(T)\n",
    "\n",
    "# plot contour\n",
    "mesh.plotTemperatureField(numbers=True)\n",
    "\n",
    "# plot gradient and flux\n",
    "mesh.calculateTempGradient()\n",
    "mesh.plotTemperatureGradient()\n",
    "mesh.calculateFlux()\n",
    "mesh.plotFlux()\n",
    "\n",
    "print_HTP(H,T,P,'BaseVersion.txt')"
   ]
  },
  {
   "cell_type": "code",
   "execution_count": null,
   "metadata": {},
   "outputs": [],
   "source": []
  }
 ],
 "metadata": {
  "kernelspec": {
   "display_name": "Python 3",
   "language": "python",
   "name": "python3"
  },
  "language_info": {
   "codemirror_mode": {
    "name": "ipython",
    "version": 3
   },
   "file_extension": ".py",
   "mimetype": "text/x-python",
   "name": "python",
   "nbconvert_exporter": "python",
   "pygments_lexer": "ipython3",
   "version": "3.7.3"
  }
 },
 "nbformat": 4,
 "nbformat_minor": 4
}
