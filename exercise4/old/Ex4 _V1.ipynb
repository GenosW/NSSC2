{
 "cells": [
  {
   "cell_type": "code",
   "execution_count": null,
   "metadata": {},
   "outputs": [],
   "source": [
    "import numpy as np\n",
    "import matplotlib.pyplot as plt\n",
    "\n",
    "from fem import Element, Mesh, Triangulation, print_HTP"
   ]
  },
  {
   "cell_type": "code",
   "execution_count": null,
   "metadata": {},
   "outputs": [],
   "source": [
    "# Setup the simulation\n",
    "\n",
    "# simulation parameters\n",
    "L = 0.01  # [m]\n",
    "hz = 0.001  # [m]\n",
    "k = 236\n",
    "n = 10  # number nodes in one direction (value can't be simply changed since the equation system is hardcoded)\n",
    "\n",
    "# BCs\n",
    "dirichletT = 293  # [K]\n",
    "q = 3000000  # [W/m^2]\n",
    "\n",
    "# Temperature vector\n",
    "T = np.ones((n*n,1))*(-1)\n",
    "for i in np.linspace(90,99,10,dtype=int):\n",
    "    T[i] = dirichletT\n",
    "\n",
    "# Load vector\n",
    "P = np.zeros((n*n,1))\n",
    "qPerArea = q*(L/(n-1)*hz)  # power one element sees\n",
    "for i in range(10):\n",
    "    P[i] = qPerArea\n",
    "P[0] = qPerArea/2\n",
    "P[9] = qPerArea/2\n",
    "\n",
    "# about the parameters for Triangulation: (L... length of domain, n-1... how many elements in x and y direction\n",
    "#                                          k... k, hz... element thickness, mode... 0=base mode / 1=trpezoidal \n",
    "#                                          2=bias / 4=different k, how much upper edge gets distorted in trapezoidal\n",
    "#                                          can also be used for other modes, c... scale factor for k in mode 4)\n",
    "Tri = Triangulation(L,n-1,n-1,k,hz,mode=4,factorV1=1,c=10)\n",
    "mesh = Tri.createTriangulation()\n",
    "H = mesh.assembleH()\n",
    "\n",
    "# System of equations\n",
    "T[0:90] = np.linalg.solve(H[0:90,0:90], P[0:90]-H[0:90,90:100].dot(T[90:100]))\n",
    "P[90:100] = H[90:100,0:90].dot(T[0:90]) + H[90:100,90:100].dot(T[90:100])\n",
    "mesh.storeT(T)\n",
    "\n",
    "# plot contour\n",
    "mesh.plotTemperatureField(numbers=True)\n",
    "\n",
    "# plot gradient and flux\n",
    "mesh.calculateTempGradient()\n",
    "mesh.plotTemperatureGradient()\n",
    "mesh.calculateFlux()\n",
    "mesh.plotFlux()\n",
    "\n",
    "print_HTP(H,T,P,'BaseVersion.txt')"
   ]
  },
  {
   "cell_type": "code",
   "execution_count": null,
   "metadata": {},
   "outputs": [],
   "source": []
  }
 ],
 "metadata": {
  "kernelspec": {
   "display_name": "Python 3",
   "language": "python",
   "name": "python3"
  },
  "language_info": {
   "codemirror_mode": {
    "name": "ipython",
    "version": 3
   },
   "file_extension": ".py",
   "mimetype": "text/x-python",
   "name": "python",
   "nbconvert_exporter": "python",
   "pygments_lexer": "ipython3",
   "version": "3.7.7"
  }
 },
 "nbformat": 4,
 "nbformat_minor": 4
}
