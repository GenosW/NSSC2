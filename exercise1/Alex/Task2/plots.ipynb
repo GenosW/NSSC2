{
 "cells": [
  {
   "cell_type": "code",
   "execution_count": null,
   "metadata": {},
   "outputs": [],
   "source": [
    "import glob \n",
    "import numpy as np\n",
    "import matplotlib.pyplot as plt\n",
    "files_250 = glob.glob(\"data/res_250/*.csv\") \n",
    "files_2000 = glob.glob(\"data/res_2000/*.csv\")\n",
    "files_4000 = glob.glob(\"data/res_4000/*.csv\")\n",
    "files_8000 = glob.glob(\"data/res_8000/*.csv\")"
   ]
  },
  {
   "cell_type": "code",
   "execution_count": null,
   "metadata": {},
   "outputs": [],
   "source": [
    "import pandas as pd\n",
    "import os\n",
    "import seaborn as sns\n",
    "data_250 = pd.DataFrame()\n",
    "data_2000 = pd.DataFrame()\n",
    "data_4000 = pd.DataFrame()\n",
    "data_8000 = pd.DataFrame()\n",
    "\n",
    "for file in files_250:\n",
    "    if file.endswith('.csv'):\n",
    "        df = pd.read_csv(file)\n",
    "        data_250 = data_250.append(df, ignore_index=True)\n",
    "        \n",
    "for file in files_2000:\n",
    "    if file.endswith('.csv'):\n",
    "        df = pd.read_csv(file)\n",
    "        data_2000 = data_2000.append(df, ignore_index=True)\n",
    "        \n",
    "for file in files_4000:\n",
    "    if file.endswith('.csv'):\n",
    "        df = pd.read_csv(file)\n",
    "        data_4000 = data_4000.append(df, ignore_index=True)\n",
    "        \n",
    "for file in files_8000:\n",
    "    if file.endswith('.csv'):\n",
    "        df = pd.read_csv(file)\n",
    "        data_8000 = data_8000.append(df, ignore_index=True)\n"
   ]
  },
  {
   "cell_type": "code",
   "execution_count": null,
   "metadata": {},
   "outputs": [],
   "source": [
    "d = np.arange(1,len(data_250)+1)\n",
    "data_250\n",
    "h =[]\n",
    "h = data_8000.runtime\n",
    "#for i in range(int(len(h)/2)):\n",
    "    #print(i*2,h[i*2])\n",
    "data_250"
   ]
  },
  {
   "cell_type": "code",
   "execution_count": null,
   "metadata": {},
   "outputs": [],
   "source": [
    "plt.figure()\n",
    "sns.lineplot(y=\"runtime/iter\", x=d, data=data_250)\n",
    "sns.lineplot(y=\"runtime/iter\", x=d, data=data_2000)\n",
    "sns.lineplot(y=\"runtime/iter\", x=d, data=data_4000)\n",
    "sns.lineplot(y=\"runtime/iter\", x=d, data=data_8000)\n",
    "plt.savefig('time_plot.png')"
   ]
  },
  {
   "cell_type": "code",
   "execution_count": null,
   "metadata": {},
   "outputs": [],
   "source": [
    "plt.figure()\n",
    "plt.semilogy(d,data_8000.runtime/d, label='8000')\n",
    "plt.semilogy(d,data_2000.runtime/d, label='2000')\n",
    "plt.semilogy(d,data_4000.runtime/d, label='4000')\n",
    "plt.semilogy(d,data_250.runtime/d, label='250')\n",
    "plt.xlabel(\"cores\")\n",
    "plt.ylabel(\"totalruntime/numcores\")\n",
    "plt.legend()\n",
    "plt.savefig('parallel_speed_up.png')"
   ]
  },
  {
   "cell_type": "code",
   "execution_count": null,
   "metadata": {
    "scrolled": true
   },
   "outputs": [],
   "source": [
    "df"
   ]
  },
  {
   "cell_type": "code",
   "execution_count": null,
   "metadata": {},
   "outputs": [],
   "source": []
  }
 ],
 "metadata": {
  "kernelspec": {
   "display_name": "Python 3",
   "language": "python",
   "name": "python3"
  },
  "language_info": {
   "codemirror_mode": {
    "name": "ipython",
    "version": 3
   },
   "file_extension": ".py",
   "mimetype": "text/x-python",
   "name": "python",
   "nbconvert_exporter": "python",
   "pygments_lexer": "ipython3",
   "version": "3.6.8"
  }
 },
 "nbformat": 4,
 "nbformat_minor": 4
}
