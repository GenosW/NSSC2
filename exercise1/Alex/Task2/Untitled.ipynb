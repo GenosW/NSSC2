{
 "cells": [
  {
   "cell_type": "code",
   "execution_count": 86,
   "metadata": {},
   "outputs": [
    {
     "name": "stdout",
     "output_type": "stream",
     "text": [
      "['500,Num_of_proc,4.csv', '500,Num_of_proc,2.csv', '500,Num_of_proc,3.csv', '500,Num_of_proc,1.csv']\n"
     ]
    }
   ],
   "source": [
    "import glob \n",
    "import numpy as np\n",
    "interesting_files = glob.glob(\"*.csv\") \n",
    "print(interesting_files)"
   ]
  },
  {
   "cell_type": "code",
   "execution_count": 87,
   "metadata": {},
   "outputs": [],
   "source": [
    "import pandas as pd\n",
    "import os\n",
    "import seaborn as sns\n",
    "big_frame = pd.DataFrame()\n",
    "\n",
    "for file in os.listdir():\n",
    "    if file.endswith('.csv'):\n",
    "        df = pd.read_csv(file)\n",
    "        big_frame = big_frame.append(df, ignore_index=True)\n"
   ]
  },
  {
   "cell_type": "code",
   "execution_count": 88,
   "metadata": {},
   "outputs": [
    {
     "data": {
      "text/html": [
       "<div>\n",
       "<style scoped>\n",
       "    .dataframe tbody tr th:only-of-type {\n",
       "        vertical-align: middle;\n",
       "    }\n",
       "\n",
       "    .dataframe tbody tr th {\n",
       "        vertical-align: top;\n",
       "    }\n",
       "\n",
       "    .dataframe thead th {\n",
       "        text-align: right;\n",
       "    }\n",
       "</style>\n",
       "<table border=\"1\" class=\"dataframe\">\n",
       "  <thead>\n",
       "    <tr style=\"text-align: right;\">\n",
       "      <th></th>\n",
       "      <th>iterations</th>\n",
       "      <th>runtime</th>\n",
       "      <th>runtime/iter</th>\n",
       "      <th>norm2res_gloabl</th>\n",
       "      <th>normMres_global</th>\n",
       "      <th>norm2err_global</th>\n",
       "      <th>normMerr_global</th>\n",
       "      <th>Unnamed: 7</th>\n",
       "    </tr>\n",
       "  </thead>\n",
       "  <tbody>\n",
       "    <tr>\n",
       "      <th>0</th>\n",
       "      <td>10000</td>\n",
       "      <td>16.2306</td>\n",
       "      <td>0.001623</td>\n",
       "      <td>5162.81</td>\n",
       "      <td>29.1514</td>\n",
       "      <td>617014</td>\n",
       "      <td>4012.65</td>\n",
       "      <td>NaN</td>\n",
       "    </tr>\n",
       "    <tr>\n",
       "      <th>1</th>\n",
       "      <td>10000</td>\n",
       "      <td>14.0014</td>\n",
       "      <td>0.001400</td>\n",
       "      <td>5162.81</td>\n",
       "      <td>29.1514</td>\n",
       "      <td>617014</td>\n",
       "      <td>4012.65</td>\n",
       "      <td>NaN</td>\n",
       "    </tr>\n",
       "    <tr>\n",
       "      <th>2</th>\n",
       "      <td>10000</td>\n",
       "      <td>19.3468</td>\n",
       "      <td>0.001934</td>\n",
       "      <td>5162.81</td>\n",
       "      <td>29.1514</td>\n",
       "      <td>617014</td>\n",
       "      <td>4012.65</td>\n",
       "      <td>NaN</td>\n",
       "    </tr>\n",
       "    <tr>\n",
       "      <th>3</th>\n",
       "      <td>10000</td>\n",
       "      <td>19.6953</td>\n",
       "      <td>0.001969</td>\n",
       "      <td>5162.81</td>\n",
       "      <td>29.1514</td>\n",
       "      <td>617014</td>\n",
       "      <td>4012.65</td>\n",
       "      <td>NaN</td>\n",
       "    </tr>\n",
       "  </tbody>\n",
       "</table>\n",
       "</div>"
      ],
      "text/plain": [
       "   iterations  runtime  runtime/iter  norm2res_gloabl  normMres_global  \\\n",
       "0       10000  16.2306      0.001623          5162.81          29.1514   \n",
       "1       10000  14.0014      0.001400          5162.81          29.1514   \n",
       "2       10000  19.3468      0.001934          5162.81          29.1514   \n",
       "3       10000  19.6953      0.001969          5162.81          29.1514   \n",
       "\n",
       "   norm2err_global  normMerr_global  Unnamed: 7  \n",
       "0           617014          4012.65         NaN  \n",
       "1           617014          4012.65         NaN  \n",
       "2           617014          4012.65         NaN  \n",
       "3           617014          4012.65         NaN  "
      ]
     },
     "execution_count": 88,
     "metadata": {},
     "output_type": "execute_result"
    }
   ],
   "source": [
    "big_frame\n",
    "d = np.arange(len(big_frame))\n",
    "big_frame"
   ]
  },
  {
   "cell_type": "code",
   "execution_count": 89,
   "metadata": {},
   "outputs": [
    {
     "data": {
      "text/plain": [
       "<matplotlib.axes._subplots.AxesSubplot at 0x7f2be328c6a0>"
      ]
     },
     "execution_count": 89,
     "metadata": {},
     "output_type": "execute_result"
    },
    {
     "data": {
      "image/png": "[encoded data removed]",
      "text/plain": [
       "<Figure size 432x288 with 1 Axes>"
      ]
     },
     "metadata": {
      "needs_background": "light"
     },
     "output_type": "display_data"
    }
   ],
   "source": [
    "sns.lineplot(y=\"runtime/iter\", x=d, data=big_frame)"
   ]
  },
  {
   "cell_type": "code",
   "execution_count": null,
   "metadata": {},
   "outputs": [],
   "source": []
  }
 ],
 "metadata": {
  "kernelspec": {
   "display_name": "Python 3",
   "language": "python",
   "name": "python3"
  },
  "language_info": {
   "codemirror_mode": {
    "name": "ipython",
    "version": 3
   },
   "file_extension": ".py",
   "mimetype": "text/x-python",
   "name": "python",
   "nbconvert_exporter": "python",
   "pygments_lexer": "ipython3",
   "version": "3.6.8"
  }
 },
 "nbformat": 4,
 "nbformat_minor": 4
}
