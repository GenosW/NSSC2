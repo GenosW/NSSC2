{
 "cells": [
  {
   "cell_type": "code",
   "execution_count": null,
   "metadata": {},
   "outputs": [],
   "source": [
    "import glob \n",
    "import numpy as np\n",
    "import matplotlib.pyplot as plt"
   ]
  },
  {
   "cell_type": "code",
   "execution_count": null,
   "metadata": {},
   "outputs": [],
   "source": [
    "d = [1,2,4,5,8,12,16,24,32,40,50,64,80]"
   ]
  },
  {
   "cell_type": "code",
   "execution_count": null,
   "metadata": {},
   "outputs": [],
   "source": [
    "ok_250 = [1.344388e-04,1.308922e-04,1.745798e-03,3.136706e-05,4.625100e-05,5.690863e-05,4.873150e-05,6.897313e-05,1.519113e-05,1.473719e-05,1.392431e-05,1.347981e-05,1.074294e-05]\n",
    "mk_250 = [1.357354e-04,1.586552e-04,1.210112e-04,6.884194e-05,8.774875e-05,1.013192e-04,1.318064e-04,2.206521e-04,1.434400e-05,1.475856e-05,2.022825e-05,1.336644e-05,1.052187e-05]\n",
    "\n",
    "mk_8000 = [1.415926e-01,7.928838e-02,5.003212e-02,4.435945e-02,2.359715e-02,2.236577e-02,2.313488e-02,1.889025e-02,3.963424e-02,1.820326e-02,4.664375e-02,1.503249e-02,4.597508e-03]\n",
    "mk_4000 = [3.622117e-02,2.031253e-02,1.170631e-02,9.617295e-03,5.795838e-03,7.428727e-03,6.239490e-03,5.131214e-03,4.877137e-03,9.496847e-03,1.500199e-02,8.492294e-03,6.802268e-04]\n",
    "\n",
    "mk_2000 = [8.917101e-03,4.907217e-03,2.973507e-03,2.229606e-03,1.482860e-03,2.239557e-03,1.290247e-03,9.275183e-04,6.929449e-04,4.769185e-04,2.454704e-03,1.874709e-03,1.616519e-04]"
   ]
  },
  {
   "cell_type": "code",
   "execution_count": null,
   "metadata": {},
   "outputs": [],
   "source": []
  },
  {
   "cell_type": "code",
   "execution_count": null,
   "metadata": {},
   "outputs": [],
   "source": [
    "S_250 = [mk_250[0]/i for i in mk_250]\n",
    "S_2000 = [mk_2000[0]/i for i in mk_2000]\n",
    "S_4000 = [mk_4000[0]/i for i in mk_4000]\n",
    "S_8000 = [mk_8000[0]/i for i in mk_8000]\n",
    "\n",
    "E_250 = [i / mk_250[0] for i in mk_250]\n",
    "E_2000 = [i / mk_2000[0] for i in mk_2000]\n",
    "E_4000 = [i / mk_4000[0] for i in mk_4000]\n",
    "E_8000 = [i / mk_8000[0] for i in mk_8000]"
   ]
  },
  {
   "cell_type": "code",
   "execution_count": null,
   "metadata": {},
   "outputs": [],
   "source": [
    "mk_250 = [1000*i for i in mk_250]\n",
    "mk_2000 = [1000*i for i in mk_2000]\n",
    "mk_4000 = [1000*i for i in mk_4000]\n",
    "mk_8000 = [1000*i for i in mk_8000]"
   ]
  },
  {
   "cell_type": "code",
   "execution_count": null,
   "metadata": {},
   "outputs": [],
   "source": [
    "plt.figure()\n",
    "plt.title(\"totalruntime_per_iter_250\")\n",
    "plt.plot(d,mk_250,'-or',label='res = 250')\n",
    "plt.xlabel(\"cores\")\n",
    "plt.ylabel(\"totalruntime_per_iter[ms]\")\n",
    "plt.grid()\n",
    "plt.savefig('runtime_per_iter_250')\n",
    "\n",
    "plt.figure()\n",
    "plt.title(\"totalruntime_per_iter_8000\")\n",
    "plt.plot(d,mk_8000,'-og',label='res = 8000')\n",
    "plt.xlabel(\"cores\")\n",
    "plt.ylabel(\"totalruntime_per_iter[ms]\")\n",
    "plt.grid()\n",
    "plt.savefig('runtime_per_iter_8000')\n",
    "\n",
    "plt.figure()\n",
    "plt.title(\"totalruntime_per_iter_4000\")\n",
    "plt.plot(d,mk_4000,'-oy',label='res = 4000')\n",
    "plt.xlabel(\"cores\")\n",
    "plt.ylabel(\"totalruntime_per_iter[ms]\")\n",
    "plt.grid()\n",
    "plt.savefig('runtime_per_iter_4000')\n",
    "\n",
    "plt.figure()\n",
    "plt.title(\"totalruntime_per_iter_2000\")\n",
    "plt.plot(d,mk_2000,'-ob',label='res = 2000')\n",
    "plt.xlabel(\"cores\")\n",
    "plt.ylabel(\"totalruntime_per_iter[ms]\")\n",
    "plt.grid()\n",
    "plt.savefig('runtime_per_iter_2000')"
   ]
  },
  {
   "cell_type": "code",
   "execution_count": null,
   "metadata": {},
   "outputs": [],
   "source": [
    "plt.figure()\n",
    "plt.title(\"parallel_speedup\")\n",
    "plt.plot(d,S_250,'-or',label='res = 250')\n",
    "\n",
    "plt.plot(d,S_2000,'-ob',label='res = 2000')\n",
    "plt.plot(d,S_4000,'-oy',label='res = 4000')\n",
    "plt.plot(d,S_8000,'-og',label='res = 8000')\n",
    "\n",
    "plt.xlabel(\"cores\")\n",
    "plt.ylabel(\"parallel_speedup\")\n",
    "plt.grid()\n",
    "plt.legend()\n",
    "\n",
    "plt.savefig('parallel_speedup')"
   ]
  },
  {
   "cell_type": "code",
   "execution_count": null,
   "metadata": {},
   "outputs": [],
   "source": [
    "j = len(d)\n",
    "E_250 = [S_250[i] / d[i] for i in range(j)]\n",
    "E_2000 = [S_2000[i] / d[i] for i in range(j)]\n",
    "E_4000 = [S_4000[i] / d[i] for i in range(j)]\n",
    "E_8000 = [S_8000[i] / d[i] for i in range(j)]"
   ]
  },
  {
   "cell_type": "code",
   "execution_count": null,
   "metadata": {},
   "outputs": [],
   "source": [
    "plt.figure()\n",
    "plt.title(\"parallel_efficiency\")\n",
    "plt.plot(d,E_250,'-or',label='res = 250')\n",
    "plt.plot(d,E_2000,'-ob',label='res = 2000')\n",
    "plt.plot(d,E_4000,'-oy',label='res = 4000')\n",
    "plt.plot(d,E_8000,'-og',label='res = 8000')\n",
    "\n",
    "plt.xlabel(\"cores\")\n",
    "plt.ylabel(\"parallel_efficiency\")\n",
    "plt.grid()\n",
    "plt.legend()\n",
    "plt.savefig('parallel_efficiency')"
   ]
  },
  {
   "cell_type": "code",
   "execution_count": null,
   "metadata": {},
   "outputs": [],
   "source": [
    "f =[1.415926e-01,7.928838e-02]"
   ]
  },
  {
   "cell_type": "code",
   "execution_count": null,
   "metadata": {},
   "outputs": [],
   "source": []
  }
 ],
 "metadata": {
  "kernelspec": {
   "display_name": "Python 3",
   "language": "python",
   "name": "python3"
  },
  "language_info": {
   "codemirror_mode": {
    "name": "ipython",
    "version": 3
   },
   "file_extension": ".py",
   "mimetype": "text/x-python",
   "name": "python",
   "nbconvert_exporter": "python",
   "pygments_lexer": "ipython3",
   "version": "3.7.5"
  }
 },
 "nbformat": 4,
 "nbformat_minor": 4
}
